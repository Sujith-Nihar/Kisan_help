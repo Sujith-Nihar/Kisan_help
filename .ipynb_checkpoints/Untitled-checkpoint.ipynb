{
 "cells": [
  {
   "cell_type": "code",
   "execution_count": 1,
   "id": "9752ed7d",
   "metadata": {},
   "outputs": [],
   "source": [
    "from flask import Flask, render_template\n",
    "from flask_cors import CORS, cross_origin\n",
    "import numpy as np\n",
    "import pandas as pd\n",
    "from datetime import datetime\n",
    "import random"
   ]
  },
  {
   "cell_type": "code",
   "execution_count": 2,
   "id": "72736439",
   "metadata": {},
   "outputs": [],
   "source": [
    "commodity_dict = {\n",
    "    \"arhar\": \"static/Arhar.csv\",\n",
    "    \"bajra\": \"static/Bajra.csv\",\n",
    "    \"barley\": \"static/Barley.csv\",\n",
    "    \"copra\": \"static/Copra.csv\",\n",
    "    \"cotton\": \"static/Cotton.csv\",\n",
    "    \"sesamum\": \"static/Sesamum.csv\",\n",
    "    \"gram\": \"static/Gram.csv\",\n",
    "    \"groundnut\": \"static/Groundnut.csv\",\n",
    "    \"jowar\": \"static/Jowar.csv\",\n",
    "    \"maize\": \"static/Maize.csv\",\n",
    "    \"masoor\": \"static/Masoor.csv\",\n",
    "    \"moong\": \"static/Moong.csv\",\n",
    "    \"niger\": \"static/Niger.csv\",\n",
    "    \"paddy\": \"static/Paddy.csv\",\n",
    "    \"ragi\": \"static/Ragi.csv\",\n",
    "    \"rape\": \"static/Rape.csv\",\n",
    "    \"jute\": \"static/Jute.csv\",\n",
    "    \"safflower\": \"static/Safflower.csv\",\n",
    "    \"soyabean\": \"static/Soyabean.csv\",\n",
    "    \"sugarcane\": \"static/Sugarcane.csv\",\n",
    "    \"sunflower\": \"static/Sunflower.csv\",\n",
    "    \"urad\": \"static/Urad.csv\",\n",
    "    \"wheat\": \"static/Wheat.csv\"\n",
    "}\n",
    "\n",
    "annual_rainfall = [29, 21, 37.5, 30.7, 52.6, 150, 299, 251.7, 179.2, 70.5, 39.8, 10.9]\n",
    "base = {\n",
    "    \"Paddy\": 1245.5,\n",
    "    \"Arhar\": 3200,\n",
    "    \"Bajra\": 1175,\n",
    "    \"Barley\": 980,\n",
    "    \"Copra\": 5100,\n",
    "    \"Cotton\": 3600,\n",
    "    \"Sesamum\": 4200,\n",
    "    \"Gram\": 2800,\n",
    "    \"Groundnut\": 3700,\n",
    "    \"Jowar\": 1520,\n",
    "    \"Maize\": 1175,\n",
    "    \"Masoor\": 2800,\n",
    "    \"Moong\": 3500,\n",
    "    \"Niger\": 3500,\n",
    "    \"Ragi\": 1500,\n",
    "    \"Rape\": 2500,\n",
    "    \"Jute\": 1675,\n",
    "    \"Safflower\": 2500,\n",
    "    \"Soyabean\": 2200,\n",
    "    \"Sugarcane\": 2250,\n",
    "    \"Sunflower\": 3700,\n",
    "    \"Urad\": 4300,\n",
    "    \"Wheat\": 1350\n",
    "}"
   ]
  },
  {
   "cell_type": "code",
   "execution_count": 3,
   "id": "4277a84f",
   "metadata": {},
   "outputs": [],
   "source": [
    "commodity_list = []"
   ]
  },
  {
   "cell_type": "code",
   "execution_count": 122,
   "id": "9921e17a",
   "metadata": {},
   "outputs": [],
   "source": [
    "class Commodity:\n",
    "\n",
    "    def __init__(self, csv_name):\n",
    "        self.name = csv_name\n",
    "        dataset = pd.read_csv(csv_name)\n",
    "        self.X = dataset.iloc[:, :-1].values\n",
    "        self.Y = dataset.iloc[:, 3].values\n",
    "        \n",
    "        \n",
    "    def DTG_train(self):\n",
    "        from sklearn.model_selection import train_test_split\n",
    "        X_train, X_test, Y_train, Y_test = train_test_split(X, Y, test_size=0.3, random_state=0)\n",
    "                \n",
    "        from sklearn.tree import DecisionTreeRegressor\n",
    "        from sklearn.model_selection import GridSearchCV\n",
    "\n",
    "        grid = { \n",
    "            'criterion' :[\"squared_error\", \"friedman_mse\", \"absolute_error\", \"poisson\"],\n",
    "            'splitter' : [\"best\", \"random\"],\n",
    "            'max_depth':  [x for x in range(1,20)],\n",
    "            'min_samples_split':[x for x in range(2,6)],    \n",
    "            'max_features':[int,float,'auto','sqrt','log2'],        \n",
    "        }\n",
    "\n",
    "        DTG_cv = GridSearchCV(estimator=DecisionTreeRegressor(), param_grid=grid, cv= 5)\n",
    "        DTG_cv.fit(X_train, Y_train)\n",
    "        return DTG_cv\n",
    "\n",
    "        \n",
    "    def getpredictedvalue(self, value):\n",
    "        if value[1]>=2019:\n",
    "            fsa = np.array(value).reshape(1, 3)\n",
    "            print(fsa)\n",
    "            print(self.regressor.predict(fsa))\n",
    "            \n",
    "            #print(\" \",self.regressor.predict(fsa)[0])\n",
    "            return self.regressor.predict(fsa)[0]\n",
    "        else:\n",
    "            c=self.X[:,0:2]\n",
    "            x=[]\n",
    "            for i in c:\n",
    "                x.append(i.tolist())\n",
    "            fsa = [value[0], value[1]]\n",
    "            ind = 0\n",
    "            for i in range(0,len(x)):\n",
    "                if x[i]==fsa:\n",
    "                    ind=i\n",
    "                    break\n",
    "            #print(index, \" \",ind)\n",
    "            #print(x[ind])\n",
    "            #print(self.Y[i])\n",
    "            return self.Y[i]\n",
    "\n",
    "    def getCropName(self):\n",
    "        a = self.name.split('.')\n",
    "        return a[0]\n"
   ]
  },
  {
   "cell_type": "code",
   "execution_count": 8,
   "id": "c3ae94b8",
   "metadata": {},
   "outputs": [],
   "source": []
  },
  {
   "cell_type": "code",
   "execution_count": 123,
   "id": "7e63bee2",
   "metadata": {},
   "outputs": [],
   "source": [
    "arhar = Commodity(commodity_dict[\"arhar\"])"
   ]
  },
  {
   "cell_type": "code",
   "execution_count": null,
   "id": "fbd30b38",
   "metadata": {},
   "outputs": [],
   "source": []
  },
  {
   "cell_type": "code",
   "execution_count": null,
   "id": "fc6f9ba4",
   "metadata": {},
   "outputs": [],
   "source": []
  },
  {
   "cell_type": "code",
   "execution_count": null,
   "id": "d0272ba7",
   "metadata": {},
   "outputs": [],
   "source": []
  },
  {
   "cell_type": "code",
   "execution_count": 31,
   "id": "82826d4e",
   "metadata": {},
   "outputs": [],
   "source": [
    "from sklearn.model_selection import train_test_split\n",
    "X_train, X_test, Y_train, Y_test = train_test_split(X, Y, test_size=0.3, random_state=0)"
   ]
  },
  {
   "cell_type": "code",
   "execution_count": 96,
   "id": "0073a809",
   "metadata": {},
   "outputs": [
    {
     "name": "stderr",
     "output_type": "stream",
     "text": [
      "C:\\ProgramData\\Anaconda3\\lib\\site-packages\\sklearn\\model_selection\\_validation.py:372: FitFailedWarning: \n",
      "6080 fits failed out of a total of 15200.\n",
      "The score on these train-test partitions for these parameters will be set to nan.\n",
      "If these failures are not expected, you can try to debug them by setting error_score='raise'.\n",
      "\n",
      "Below are more details about the failures:\n",
      "--------------------------------------------------------------------------------\n",
      "6080 fits failed with the following error:\n",
      "Traceback (most recent call last):\n",
      "  File \"C:\\ProgramData\\Anaconda3\\lib\\site-packages\\sklearn\\model_selection\\_validation.py\", line 680, in _fit_and_score\n",
      "    estimator.fit(X_train, y_train, **fit_params)\n",
      "  File \"C:\\ProgramData\\Anaconda3\\lib\\site-packages\\sklearn\\tree\\_classes.py\", line 1315, in fit\n",
      "    super().fit(\n",
      "  File \"C:\\ProgramData\\Anaconda3\\lib\\site-packages\\sklearn\\tree\\_classes.py\", line 291, in fit\n",
      "    if self.max_features > 0.0:\n",
      "TypeError: '>' not supported between instances of 'type' and 'float'\n",
      "\n",
      "  warnings.warn(some_fits_failed_message, FitFailedWarning)\n",
      "C:\\ProgramData\\Anaconda3\\lib\\site-packages\\sklearn\\model_selection\\_search.py:969: UserWarning: One or more of the test scores are non-finite: [        nan         nan         nan ... -0.49284166  0.47784366\n",
      "  0.22701339]\n",
      "  warnings.warn(\n"
     ]
    },
    {
     "data": {
      "text/plain": [
       "GridSearchCV(cv=5, estimator=DecisionTreeRegressor(),\n",
       "             param_grid={'criterion': ['squared_error', 'friedman_mse',\n",
       "                                       'absolute_error', 'poisson'],\n",
       "                         'max_depth': [1, 2, 3, 4, 5, 6, 7, 8, 9, 10, 11, 12,\n",
       "                                       13, 14, 15, 16, 17, 18, 19],\n",
       "                         'max_features': [<class 'int'>, <class 'float'>,\n",
       "                                          'auto', 'sqrt', 'log2'],\n",
       "                         'min_samples_split': [2, 3, 4, 5],\n",
       "                         'splitter': ['best', 'random']})"
      ]
     },
     "execution_count": 96,
     "metadata": {},
     "output_type": "execute_result"
    }
   ],
   "source": [
    "# Fitting decision tree regression to dataset\n",
    "from sklearn.tree import DecisionTreeRegressor\n",
    "from sklearn.model_selection import GridSearchCV\n",
    "\n",
    "grid = { \n",
    "    'criterion' :[\"squared_error\", \"friedman_mse\", \"absolute_error\", \"poisson\"],\n",
    "    'splitter' : [\"best\", \"random\"],\n",
    "    'max_depth':  [x for x in range(1,20)],\n",
    "    'min_samples_split':[x for x in range(2,6)],    \n",
    "    'max_features':[int,float,'auto','sqrt','log2'],        \n",
    "}\n",
    "\n",
    "DTG_cv = GridSearchCV(estimator=DecisionTreeRegressor(), param_grid=grid, cv= 5)\n",
    "DTG_cv.fit(X_train, Y_train)\n",
    "\n",
    "# fsa=np.array([float(1),2019,45]).reshape(1,3)\n",
    "# fask=regressor_tree.predict(fsa)"
   ]
  },
  {
   "cell_type": "code",
   "execution_count": 86,
   "id": "7f9760a8",
   "metadata": {},
   "outputs": [
    {
     "data": {
      "text/plain": [
       "GridSearchCV(cv=5, estimator=DecisionTreeRegressor(),\n",
       "             param_grid={'criterion': ['squared_error', 'friedman_mse',\n",
       "                                       'absolute_error', 'poisson'],\n",
       "                         'max_depth': [1, 2, 3, 4, 5, 6, 7, 8, 9, 10, 11, 12,\n",
       "                                       13, 14, 15, 16, 17, 18, 19],\n",
       "                         'max_features': [<class 'int'>, <class 'float'>,\n",
       "                                          'auto', 'sqrt', 'log2'],\n",
       "                         'min_samples_split': [2, 3, 4, 5],\n",
       "                         'splitter': ['best', 'random']})"
      ]
     },
     "execution_count": 86,
     "metadata": {},
     "output_type": "execute_result"
    }
   ],
   "source": [
    "DTG_cv"
   ]
  },
  {
   "cell_type": "code",
   "execution_count": 90,
   "id": "7bed97c0",
   "metadata": {},
   "outputs": [
    {
     "data": {
      "text/plain": [
       "DecisionTreeRegressor(max_depth=8, max_features='auto', min_samples_split=3,\n",
       "                      splitter='random')"
      ]
     },
     "execution_count": 90,
     "metadata": {},
     "output_type": "execute_result"
    }
   ],
   "source": [
    "DTG_cv.best_estimator_"
   ]
  },
  {
   "cell_type": "code",
   "execution_count": 82,
   "id": "12bf8f8a",
   "metadata": {},
   "outputs": [],
   "source": [
    "best_DTG = DecisionTreeRegressor(max_depth=8, max_features='auto', min_samples_split=3, splitter='random')\n",
    "best_DTG.fit(X_train, Y_train)\n",
    "y_pred_tree = best_DTG.predict(X_test)"
   ]
  },
  {
   "cell_type": "code",
   "execution_count": 97,
   "id": "19043ba2",
   "metadata": {},
   "outputs": [
    {
     "name": "stdout",
     "output_type": "stream",
     "text": [
      "[118.1 121.  118.3 118.1 116.5 110.8 127.7 182.4 195.  121.  215.1 217.1\n",
      " 216.8 139.1 115.3  99.7 133.1 111.6 217.1 115.6 116.5 116.3 111.2 114.\n",
      " 174.8]\n",
      "[118.4 122.2 121.6 118.2 116.6 113.2 126.3 178.9 184.6 120.1 217.2 219.\n",
      " 217.5 134.3 115.9 101.6 140.7 113.8 196.9 108.6 114.9 114.4 110.8 123.9\n",
      " 185.5]\n"
     ]
    }
   ],
   "source": [
    "y_pred_tree = DTG_cv.predict(X_test)\n",
    "print(y_pred_tree)\n",
    "print(Y_test)"
   ]
  },
  {
   "cell_type": "code",
   "execution_count": 119,
   "id": "24eef831",
   "metadata": {},
   "outputs": [
    {
     "name": "stdout",
     "output_type": "stream",
     "text": [
      "Accuracy is 97.49712282734447\n"
     ]
    }
   ],
   "source": [
    "from sklearn.metrics import r2_score\n",
    "print(\"Accuracy is\", r2_score(Y_test, y_pred_tree)*100)"
   ]
  },
  {
   "cell_type": "code",
   "execution_count": null,
   "id": "78b0359a",
   "metadata": {},
   "outputs": [],
   "source": []
  }
 ],
 "metadata": {
  "kernelspec": {
   "display_name": "Python 3 (ipykernel)",
   "language": "python",
   "name": "python3"
  },
  "language_info": {
   "codemirror_mode": {
    "name": "ipython",
    "version": 3
   },
   "file_extension": ".py",
   "mimetype": "text/x-python",
   "name": "python",
   "nbconvert_exporter": "python",
   "pygments_lexer": "ipython3",
   "version": "3.9.13"
  }
 },
 "nbformat": 4,
 "nbformat_minor": 5
}
